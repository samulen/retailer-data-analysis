{
 "cells": [
  {
   "cell_type": "markdown",
   "id": "d1b1e728-4738-48ee-b7ef-6b6a5b9f602b",
   "metadata": {},
   "source": [
    "# Behavior across weeks and hours\n",
    "## Questions:\n",
    "* ### How are orders distributed across the week?  \n",
    "* ### How are orders distributed across the day?\n",
    "* ### How are orders distributed across the week/day?\n",
    "* ### Are there differences across regions?\n",
    "* ### Has this behavior changed in time?"
   ]
  },
  {
   "cell_type": "markdown",
   "id": "3c0181db-075b-476b-b000-7d1c36f05be5",
   "metadata": {},
   "source": [
    "## Data retrieval\n",
    "For information about the origin db and table refer to:"
   ]
  },
  {
   "cell_type": "code",
   "execution_count": 6,
   "id": "90f2821d-6a1d-48eb-b619-b195b55cefa2",
   "metadata": {},
   "outputs": [
    {
     "data": {
      "text/html": [
       "<div>\n",
       "<style scoped>\n",
       "    .dataframe tbody tr th:only-of-type {\n",
       "        vertical-align: middle;\n",
       "    }\n",
       "\n",
       "    .dataframe tbody tr th {\n",
       "        vertical-align: top;\n",
       "    }\n",
       "\n",
       "    .dataframe thead th {\n",
       "        text-align: right;\n",
       "    }\n",
       "</style>\n",
       "<table border=\"1\" class=\"dataframe\">\n",
       "  <thead>\n",
       "    <tr style=\"text-align: right;\">\n",
       "      <th></th>\n",
       "      <th>nazione</th>\n",
       "      <th>area</th>\n",
       "      <th>DATE(date)</th>\n",
       "      <th>year</th>\n",
       "      <th>month</th>\n",
       "      <th>hour</th>\n",
       "      <th>weekday</th>\n",
       "      <th>n_orders</th>\n",
       "    </tr>\n",
       "  </thead>\n",
       "  <tbody>\n",
       "    <tr>\n",
       "      <th>0</th>\n",
       "      <td>CH</td>\n",
       "      <td>None</td>\n",
       "      <td>2023-10-23</td>\n",
       "      <td>2023</td>\n",
       "      <td>10</td>\n",
       "      <td>12</td>\n",
       "      <td>Monday</td>\n",
       "      <td>1</td>\n",
       "    </tr>\n",
       "    <tr>\n",
       "      <th>1</th>\n",
       "      <td>CH</td>\n",
       "      <td>None</td>\n",
       "      <td>2023-12-06</td>\n",
       "      <td>2023</td>\n",
       "      <td>12</td>\n",
       "      <td>17</td>\n",
       "      <td>Wednesday</td>\n",
       "      <td>1</td>\n",
       "    </tr>\n",
       "    <tr>\n",
       "      <th>2</th>\n",
       "      <td>CH</td>\n",
       "      <td>None</td>\n",
       "      <td>2023-12-14</td>\n",
       "      <td>2023</td>\n",
       "      <td>12</td>\n",
       "      <td>20</td>\n",
       "      <td>Thursday</td>\n",
       "      <td>1</td>\n",
       "    </tr>\n",
       "    <tr>\n",
       "      <th>3</th>\n",
       "      <td>CH</td>\n",
       "      <td>None</td>\n",
       "      <td>2023-12-23</td>\n",
       "      <td>2023</td>\n",
       "      <td>12</td>\n",
       "      <td>18</td>\n",
       "      <td>Saturday</td>\n",
       "      <td>1</td>\n",
       "    </tr>\n",
       "    <tr>\n",
       "      <th>4</th>\n",
       "      <td>CH</td>\n",
       "      <td>None</td>\n",
       "      <td>2023-12-26</td>\n",
       "      <td>2023</td>\n",
       "      <td>12</td>\n",
       "      <td>12</td>\n",
       "      <td>Tuesday</td>\n",
       "      <td>1</td>\n",
       "    </tr>\n",
       "  </tbody>\n",
       "</table>\n",
       "</div>"
      ],
      "text/plain": [
       "  nazione  area  DATE(date)  year  month  hour    weekday  n_orders\n",
       "0      CH  None  2023-10-23  2023     10    12     Monday         1\n",
       "1      CH  None  2023-12-06  2023     12    17  Wednesday         1\n",
       "2      CH  None  2023-12-14  2023     12    20   Thursday         1\n",
       "3      CH  None  2023-12-23  2023     12    18   Saturday         1\n",
       "4      CH  None  2023-12-26  2023     12    12    Tuesday         1"
      ]
     },
     "execution_count": 6,
     "metadata": {},
     "output_type": "execute_result"
    }
   ],
   "source": [
    "import mysql.connector\n",
    "import constants as c\n",
    "import pandas as pd\n",
    "\n",
    "connection = mysql.connector.connect(host='localhost',\n",
    "                                            database=c.database_name,\n",
    "                                            user=c.database_username,\n",
    "                                            password=c.database_password)\n",
    "\n",
    "sql_select_Query = f\"\"\"SELECT nazione, area, date, year, month, hour, weekday, COUNT(DISTINCT ID) as n_orders \n",
    "                        FROM {c.schema}.dataset\n",
    "                        GROUP BY nazione, area, date, year, month, hour, weekday\"\"\"\n",
    "cursor = connection.cursor()\n",
    "cursor.execute(sql_select_Query)\n",
    "column_names = [i[0] for i in cursor.description]\n",
    "records = cursor.fetchall()\n",
    "\n",
    "connection.close()\n",
    "cursor.close()\n",
    "\n",
    "dataset = pd.DataFrame(records, columns = column_names)\n",
    "dataset.head()"
   ]
  },
  {
   "cell_type": "markdown",
   "id": "e5b1e009-8c2e-4732-aee1-c039852b3113",
   "metadata": {},
   "source": [
    "## Data analysis"
   ]
  },
  {
   "cell_type": "code",
   "execution_count": 12,
   "id": "d833cf2e-4fdc-4114-83f9-f0ce1a653260",
   "metadata": {},
   "outputs": [
    {
     "ename": "ValueError",
     "evalue": "time data '2024-01-16 21:00:03' does not match format '%y-%m-%d %H:%M:%S'",
     "output_type": "error",
     "traceback": [
      "\u001b[1;31m---------------------------------------------------------------------------\u001b[0m",
      "\u001b[1;31mValueError\u001b[0m                                Traceback (most recent call last)",
      "Cell \u001b[1;32mIn[12], line 2\u001b[0m\n\u001b[0;32m      1\u001b[0m \u001b[38;5;28;01mfrom\u001b[39;00m \u001b[38;5;21;01mdatetime\u001b[39;00m \u001b[38;5;28;01mimport\u001b[39;00m datetime\n\u001b[1;32m----> 2\u001b[0m date \u001b[38;5;241m=\u001b[39m \u001b[43mdatetime\u001b[49m\u001b[38;5;241;43m.\u001b[39;49m\u001b[43mstrptime\u001b[49m\u001b[43m(\u001b[49m\u001b[38;5;124;43m'\u001b[39;49m\u001b[38;5;124;43m2024-01-16 21:00:03\u001b[39;49m\u001b[38;5;124;43m'\u001b[39;49m\u001b[43m,\u001b[49m\u001b[43m \u001b[49m\u001b[38;5;124;43m'\u001b[39;49m\u001b[38;5;124;43m%\u001b[39;49m\u001b[38;5;124;43my-\u001b[39;49m\u001b[38;5;124;43m%\u001b[39;49m\u001b[38;5;124;43mm-\u001b[39;49m\u001b[38;5;132;43;01m%d\u001b[39;49;00m\u001b[38;5;124;43m \u001b[39;49m\u001b[38;5;124;43m%\u001b[39;49m\u001b[38;5;124;43mH:\u001b[39;49m\u001b[38;5;124;43m%\u001b[39;49m\u001b[38;5;124;43mM:\u001b[39;49m\u001b[38;5;124;43m%\u001b[39;49m\u001b[38;5;124;43mS\u001b[39;49m\u001b[38;5;124;43m'\u001b[39;49m\u001b[43m)\u001b[49m\n",
      "File \u001b[1;32mC:\\Program Files\\WindowsApps\\PythonSoftwareFoundation.Python.3.11_3.11.2032.0_x64__qbz5n2kfra8p0\\Lib\\_strptime.py:568\u001b[0m, in \u001b[0;36m_strptime_datetime\u001b[1;34m(cls, data_string, format)\u001b[0m\n\u001b[0;32m    565\u001b[0m \u001b[38;5;28;01mdef\u001b[39;00m \u001b[38;5;21m_strptime_datetime\u001b[39m(\u001b[38;5;28mcls\u001b[39m, data_string, \u001b[38;5;28mformat\u001b[39m\u001b[38;5;241m=\u001b[39m\u001b[38;5;124m\"\u001b[39m\u001b[38;5;132;01m%a\u001b[39;00m\u001b[38;5;124m \u001b[39m\u001b[38;5;124m%\u001b[39m\u001b[38;5;124mb \u001b[39m\u001b[38;5;132;01m%d\u001b[39;00m\u001b[38;5;124m \u001b[39m\u001b[38;5;124m%\u001b[39m\u001b[38;5;124mH:\u001b[39m\u001b[38;5;124m%\u001b[39m\u001b[38;5;124mM:\u001b[39m\u001b[38;5;124m%\u001b[39m\u001b[38;5;124mS \u001b[39m\u001b[38;5;124m%\u001b[39m\u001b[38;5;124mY\u001b[39m\u001b[38;5;124m\"\u001b[39m):\n\u001b[0;32m    566\u001b[0m \u001b[38;5;250m    \u001b[39m\u001b[38;5;124;03m\"\"\"Return a class cls instance based on the input string and the\u001b[39;00m\n\u001b[0;32m    567\u001b[0m \u001b[38;5;124;03m    format string.\"\"\"\u001b[39;00m\n\u001b[1;32m--> 568\u001b[0m     tt, fraction, gmtoff_fraction \u001b[38;5;241m=\u001b[39m \u001b[43m_strptime\u001b[49m\u001b[43m(\u001b[49m\u001b[43mdata_string\u001b[49m\u001b[43m,\u001b[49m\u001b[43m \u001b[49m\u001b[38;5;28;43mformat\u001b[39;49m\u001b[43m)\u001b[49m\n\u001b[0;32m    569\u001b[0m     tzname, gmtoff \u001b[38;5;241m=\u001b[39m tt[\u001b[38;5;241m-\u001b[39m\u001b[38;5;241m2\u001b[39m:]\n\u001b[0;32m    570\u001b[0m     args \u001b[38;5;241m=\u001b[39m tt[:\u001b[38;5;241m6\u001b[39m] \u001b[38;5;241m+\u001b[39m (fraction,)\n",
      "File \u001b[1;32mC:\\Program Files\\WindowsApps\\PythonSoftwareFoundation.Python.3.11_3.11.2032.0_x64__qbz5n2kfra8p0\\Lib\\_strptime.py:349\u001b[0m, in \u001b[0;36m_strptime\u001b[1;34m(data_string, format)\u001b[0m\n\u001b[0;32m    347\u001b[0m found \u001b[38;5;241m=\u001b[39m format_regex\u001b[38;5;241m.\u001b[39mmatch(data_string)\n\u001b[0;32m    348\u001b[0m \u001b[38;5;28;01mif\u001b[39;00m \u001b[38;5;129;01mnot\u001b[39;00m found:\n\u001b[1;32m--> 349\u001b[0m     \u001b[38;5;28;01mraise\u001b[39;00m \u001b[38;5;167;01mValueError\u001b[39;00m(\u001b[38;5;124m\"\u001b[39m\u001b[38;5;124mtime data \u001b[39m\u001b[38;5;132;01m%r\u001b[39;00m\u001b[38;5;124m does not match format \u001b[39m\u001b[38;5;132;01m%r\u001b[39;00m\u001b[38;5;124m\"\u001b[39m \u001b[38;5;241m%\u001b[39m\n\u001b[0;32m    350\u001b[0m                      (data_string, \u001b[38;5;28mformat\u001b[39m))\n\u001b[0;32m    351\u001b[0m \u001b[38;5;28;01mif\u001b[39;00m \u001b[38;5;28mlen\u001b[39m(data_string) \u001b[38;5;241m!=\u001b[39m found\u001b[38;5;241m.\u001b[39mend():\n\u001b[0;32m    352\u001b[0m     \u001b[38;5;28;01mraise\u001b[39;00m \u001b[38;5;167;01mValueError\u001b[39;00m(\u001b[38;5;124m\"\u001b[39m\u001b[38;5;124munconverted data remains: \u001b[39m\u001b[38;5;132;01m%s\u001b[39;00m\u001b[38;5;124m\"\u001b[39m \u001b[38;5;241m%\u001b[39m\n\u001b[0;32m    353\u001b[0m                       data_string[found\u001b[38;5;241m.\u001b[39mend():])\n",
      "\u001b[1;31mValueError\u001b[0m: time data '2024-01-16 21:00:03' does not match format '%y-%m-%d %H:%M:%S'"
     ]
    }
   ],
   "source": [
    "from datetime import datetime\n",
    "date = datetime.strptime('2024-01-16 21:00:03', '%y-%m-%d %H:%M:%S')"
   ]
  },
  {
   "cell_type": "markdown",
   "id": "ff79c51a-05a6-475b-9c99-62aa63355c63",
   "metadata": {},
   "source": [
    "### How are orders distributed across the week?  "
   ]
  },
  {
   "cell_type": "code",
   "execution_count": 2,
   "id": "922df28a-4bee-4817-bc74-cf83bcd0222c",
   "metadata": {},
   "outputs": [],
   "source": [
    "%matplotlib ipympl\n",
    "import matplotlib.pyplot as plt"
   ]
  },
  {
   "cell_type": "code",
   "execution_count": 3,
   "id": "ce196e72-6e3a-4bad-87da-4efb60324cb1",
   "metadata": {},
   "outputs": [
    {
     "name": "stdout",
     "output_type": "stream",
     "text": [
      "     weekday  n_orders\n",
      "0     Friday  1.000000\n",
      "1     Monday  1.032258\n",
      "2   Saturday  1.083333\n",
      "3     Sunday  1.133333\n",
      "4   Thursday  1.062500\n",
      "5    Tuesday  1.043478\n",
      "6  Wednesday  1.085714\n"
     ]
    },
    {
     "data": {
      "application/vnd.jupyter.widget-view+json": {
       "model_id": "b662c8d0fd1e49d091e8a4b1b9edf857",
       "version_major": 2,
       "version_minor": 0
      },
      "image/png": "[encoded data removed]",
      "text/html": [
       "\n",
       "            <div style=\"display: inline-block;\">\n",
       "                <div class=\"jupyter-widgets widget-label\" style=\"text-align: center;\">\n",
       "                    Figure\n",
       "                </div>\n",
       "                <img src='data:image/png;base64,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' width=640.0/>\n",
       "            </div>\n",
       "        "
      ],
      "text/plain": [
       "Canvas(toolbar=Toolbar(toolitems=[('Home', 'Reset original view', 'home', 'home'), ('Back', 'Back to previous …"
      ]
     },
     "metadata": {},
     "output_type": "display_data"
    }
   ],
   "source": [
    "weekday_trends = dataset.groupby('weekday')['n_orders'].mean().reset_index()\n",
    "print(weekday_trends)\n",
    "plot = plt.bar(weekday_trends['weekday'], weekday_trends['n_orders'])\n",
    "plt.show()"
   ]
  },
  {
   "cell_type": "code",
   "execution_count": 56,
   "id": "35cb098b-26b5-4d36-910a-ccfdedc181e7",
   "metadata": {},
   "outputs": [
    {
     "ename": "NameError",
     "evalue": "name 'add_subplot' is not defined",
     "output_type": "error",
     "traceback": [
      "\u001b[1;31m---------------------------------------------------------------------------\u001b[0m",
      "\u001b[1;31mNameError\u001b[0m                                 Traceback (most recent call last)",
      "Cell \u001b[1;32mIn[56], line 6\u001b[0m\n\u001b[0;32m      1\u001b[0m \u001b[38;5;66;03m#plt.figure(figsize=(9,4))\u001b[39;00m\n\u001b[0;32m      2\u001b[0m \u001b[38;5;66;03m#bars = plt.boxplot(dataset['weekday','n_orders'])\u001b[39;00m\n\u001b[0;32m      3\u001b[0m \n\u001b[0;32m      4\u001b[0m \u001b[38;5;66;03m#plt.title('Average Age by Department')\u001b[39;00m\n\u001b[0;32m      5\u001b[0m \u001b[38;5;66;03m#plt.show()\u001b[39;00m\n\u001b[1;32m----> 6\u001b[0m ax\u001b[38;5;241m=\u001b[39m\u001b[43madd_subplot\u001b[49m(\u001b[38;5;241m111\u001b[39m)\n\u001b[0;32m      7\u001b[0m lista\u001b[38;5;241m=\u001b[39m[]\n\u001b[0;32m      8\u001b[0m axis\u001b[38;5;241m=\u001b[39m[]\n",
      "\u001b[1;31mNameError\u001b[0m: name 'add_subplot' is not defined"
     ]
    }
   ],
   "source": [
    "#plt.figure(figsize=(9,4))\n",
    "#bars = plt.boxplot(dataset['weekday','n_orders'])\n",
    "\n",
    "#plt.title('Average Age by Department')\n",
    "#plt.show()\n",
    "ax=add_subplot(111)\n",
    "lista=[]\n",
    "axis=[]\n",
    "for value in dataset['weekday'].unique():\n",
    "    axis.append(value)\n",
    "    lista.append(dataset[dataset['weekday']==value]['n_orders'].to_list())\n",
    "print(lista) \n",
    "print(axis)\n",
    "bars = plt.boxplot(lista)\n",
    "ax.set_xticklabels(axis)\n",
    "plt.title('Average Age by Department')\n",
    "plt.show()"
   ]
  }
 ],
 "metadata": {
  "kernelspec": {
   "display_name": "Python 3 (ipykernel)",
   "language": "python",
   "name": "python3"
  },
  "language_info": {
   "codemirror_mode": {
    "name": "ipython",
    "version": 3
   },
   "file_extension": ".py",
   "mimetype": "text/x-python",
   "name": "python",
   "nbconvert_exporter": "python",
   "pygments_lexer": "ipython3",
   "version": "3.11.7"
  }
 },
 "nbformat": 4,
 "nbformat_minor": 5
}
