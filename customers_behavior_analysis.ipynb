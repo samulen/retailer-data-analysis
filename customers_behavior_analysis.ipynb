{
 "cells": [
  {
   "cell_type": "markdown",
   "id": "0b6ce950-ce95-44fc-907d-9f758fe27311",
   "metadata": {},
   "source": [
    "# CUSTOMERS BEHAVIOR\n",
    "\n",
    "## Habits:\n",
    "* ### How are orders distributed across the week?  \n",
    "* ### How are orders distributed across the day?\n",
    "* ### How are orders distributed across the week/day?\n",
    "* ### Are there differences across regions?\n",
    "* ### Has this behavior changed in time?\n",
    "## Repurchases:\n",
    "* ### Who are the customers that repurchased?\n",
    "* ### How many days on average between repurchases?\n",
    "* ### How many as a percentage of the total?\n",
    "* ### Which combinations of products?\n",
    "* ### Are there differences across regions?\n",
    "* ### Has this behavior changed over time?\n",
    "## Orders with multiple items\n",
    "* ### How many as a percentage of the total?\n",
    "* ### Which combinations of products?\n",
    "* ### Are there differences across regions?\n",
    "* ### Has this behavior changed over time?\n",
    "## Product preferences\n",
    "* ### Which ones have the most sales?\n",
    "* ### Are there differences across regions?\n",
    "* ### Has this behavior changed over time?\n",
    "## Sizes\n",
    "* ### How are sizes distributed overall and across models?\n",
    "* ### Are there differences across regions?\n",
    "* ### Has this behavior changed over time?"
   ]
  },
  {
   "cell_type": "code",
   "execution_count": null,
   "id": "23086d90-be82-480c-a9e9-50cd146ec9ef",
   "metadata": {},
   "outputs": [],
   "source": []
  }
 ],
 "metadata": {
  "kernelspec": {
   "display_name": "Python 3 (ipykernel)",
   "language": "python",
   "name": "python3"
  },
  "language_info": {
   "codemirror_mode": {
    "name": "ipython",
    "version": 3
   },
   "file_extension": ".py",
   "mimetype": "text/x-python",
   "name": "python",
   "nbconvert_exporter": "python",
   "pygments_lexer": "ipython3",
   "version": "3.11.7"
  }
 },
 "nbformat": 4,
 "nbformat_minor": 5
}
