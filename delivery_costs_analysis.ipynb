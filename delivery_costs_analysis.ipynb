{
 "cells": [
  {
   "cell_type": "markdown",
   "id": "66277021-3600-464a-83cc-cca5069259bd",
   "metadata": {},
   "source": [
    "# DELIVERY COSTS \n",
    "\n",
    "## Rationale \n",
    "The costs for delivering the goods to the customers turned out greater than expected. The purpose of this notebook is to analyse geographically how this costs are distributed. This should give a clearer picture of what is spent where, so that in the future it will be easier to evaluate alternatives."
   ]
  },
  {
   "cell_type": "markdown",
   "id": "87648d1d-f90b-4583-bb61-03adc4fd1fc6",
   "metadata": {},
   "source": [
    "## The dataset\n",
    "The table consists of all the movements in a logistic account. It is structured as debits, for every delivery and periodic fees, and credits, for deposits and reversals.\n",
    "* date\n",
    "* movement_id: for deliveries it is an alphanumerical code, for other movements it is just a description\n",
    "* movement_type: desctription of the reason \n",
    "* amount(signed)\n",
    "* Note: additional notes, for reversals it contains the original movement_id "
   ]
  },
  {
   "cell_type": "code",
   "execution_count": 1,
   "id": "c10e62e4-3c00-4c89-94ab-f1402a968f5a",
   "metadata": {},
   "outputs": [],
   "source": [
    "import pandas as pd\n",
    "import matplotlib as plt\n",
    "\n",
    "raw_delivery_movs = (pd.read_excel('data\\\\estratticonto.xls', \n",
    "                                usecols = ['Data', 'ID Transizione',  \n",
    "                                           'Tipologia movimento',\n",
    "                                           'Importo', 'Note']\n",
    "                               ).rename({\n",
    "                                'Data':'date',\n",
    "                                'ID Transizione':'movement_id',\n",
    "                                'Tipologia movimento':'movement_type',\n",
    "                                'Importo':'amount'\n",
    "                                   }, axis='columns'    \n",
    "                               )\n",
    "                 )\n",
    "                        "
   ]
  },
  {
   "cell_type": "code",
   "execution_count": 2,
   "id": "4b894126-3363-4ae9-af52-d6a34e52ae6b",
   "metadata": {
    "editable": true,
    "slideshow": {
     "slide_type": ""
    },
    "tags": []
   },
   "outputs": [
    {
     "data": {
      "text/html": [
       "<div>\n",
       "<style scoped>\n",
       "    .dataframe tbody tr th:only-of-type {\n",
       "        vertical-align: middle;\n",
       "    }\n",
       "\n",
       "    .dataframe tbody tr th {\n",
       "        vertical-align: top;\n",
       "    }\n",
       "\n",
       "    .dataframe thead th {\n",
       "        text-align: right;\n",
       "    }\n",
       "</style>\n",
       "<table border=\"1\" class=\"dataframe\">\n",
       "  <thead>\n",
       "    <tr style=\"text-align: right;\">\n",
       "      <th></th>\n",
       "      <th>date</th>\n",
       "      <th>movement_id</th>\n",
       "      <th>movement_type</th>\n",
       "      <th>amount</th>\n",
       "      <th>Note</th>\n",
       "    </tr>\n",
       "  </thead>\n",
       "  <tbody>\n",
       "    <tr>\n",
       "      <th>0</th>\n",
       "      <td>17/05/2023</td>\n",
       "      <td>Prima Ricarica</td>\n",
       "      <td>Richiesta credito</td>\n",
       "      <td>99.0000</td>\n",
       "      <td>NaN</td>\n",
       "    </tr>\n",
       "    <tr>\n",
       "      <th>1</th>\n",
       "      <td>17/05/2023</td>\n",
       "      <td>ricarica formazione</td>\n",
       "      <td>Richiesta credito</td>\n",
       "      <td>20.0000</td>\n",
       "      <td>NaN</td>\n",
       "    </tr>\n",
       "    <tr>\n",
       "      <th>2</th>\n",
       "      <td>17/05/2023</td>\n",
       "      <td>287670I028608</td>\n",
       "      <td>Spedizione</td>\n",
       "      <td>-7.2346</td>\n",
       "      <td>NaN</td>\n",
       "    </tr>\n",
       "    <tr>\n",
       "      <th>3</th>\n",
       "      <td>17/05/2023</td>\n",
       "      <td>287670I028609</td>\n",
       "      <td>Spedizione</td>\n",
       "      <td>-7.2346</td>\n",
       "      <td>NaN</td>\n",
       "    </tr>\n",
       "    <tr>\n",
       "      <th>4</th>\n",
       "      <td>17/05/2023</td>\n",
       "      <td>287670I028609</td>\n",
       "      <td>Spedizione</td>\n",
       "      <td>7.2346</td>\n",
       "      <td>Accredito annullamento spedizione 287670I028609</td>\n",
       "    </tr>\n",
       "  </tbody>\n",
       "</table>\n",
       "</div>"
      ],
      "text/plain": [
       "         date          movement_id      movement_type   amount  \\\n",
       "0  17/05/2023       Prima Ricarica  Richiesta credito  99.0000   \n",
       "1  17/05/2023  ricarica formazione  Richiesta credito  20.0000   \n",
       "2  17/05/2023        287670I028608         Spedizione  -7.2346   \n",
       "3  17/05/2023        287670I028609         Spedizione  -7.2346   \n",
       "4  17/05/2023        287670I028609         Spedizione   7.2346   \n",
       "\n",
       "                                              Note  \n",
       "0                                              NaN  \n",
       "1                                              NaN  \n",
       "2                                              NaN  \n",
       "3                                              NaN  \n",
       "4  Accredito annullamento spedizione 287670I028609  "
      ]
     },
     "execution_count": 2,
     "metadata": {},
     "output_type": "execute_result"
    }
   ],
   "source": [
    "raw_delivery_movs.head()"
   ]
  },
  {
   "cell_type": "markdown",
   "id": "7523bbc9-95a2-4283-a831-8745365e4e82",
   "metadata": {},
   "source": [
    "### Remove NAs"
   ]
  },
  {
   "cell_type": "code",
   "execution_count": 3,
   "id": "7560520d-2148-474d-a06f-9c681a495877",
   "metadata": {},
   "outputs": [],
   "source": [
    "delivery_movs = raw_delivery_movs.dropna(subset='movement_id')"
   ]
  },
  {
   "cell_type": "markdown",
   "id": "9c461071-8a36-492c-a1eb-cc638f6587d2",
   "metadata": {},
   "source": [
    "### Remove reversals\n",
    "Posting and reversals have the same ID, so I can remove all the rows whose IDs are in the list of reversal movements IDs.  "
   ]
  },
  {
   "cell_type": "code",
   "execution_count": 4,
   "id": "ac780415-3a90-4f9d-9fd4-2998036d1aca",
   "metadata": {},
   "outputs": [],
   "source": [
    "raw_reversals = delivery_movs.dropna()\n",
    "reversals = raw_reversals.loc[raw_reversals['Note'].str.contains('nnull'), 'movement_id'].to_numpy()\n",
    "final_delivery_movs = delivery_movs.loc[~delivery_movs['movement_id'].isin(reversals)]"
   ]
  },
  {
   "cell_type": "markdown",
   "id": "94fd4cbe-5957-414f-8401-b4d8074b7051",
   "metadata": {},
   "source": [
    "### Replace sign and categories values with more understandable (english) ones"
   ]
  },
  {
   "cell_type": "code",
   "execution_count": 5,
   "id": "a15bb215-ee23-4297-903c-0de38ccdb3e9",
   "metadata": {
    "scrolled": true
   },
   "outputs": [
    {
     "name": "stderr",
     "output_type": "stream",
     "text": [
      "C:\\Users\\samue\\AppData\\Local\\Temp\\ipykernel_45460\\383988674.py:1: SettingWithCopyWarning: \n",
      "A value is trying to be set on a copy of a slice from a DataFrame.\n",
      "Try using .loc[row_indexer,col_indexer] = value instead\n",
      "\n",
      "See the caveats in the documentation: https://pandas.pydata.org/pandas-docs/stable/user_guide/indexing.html#returning-a-view-versus-a-copy\n",
      "  final_delivery_movs['movement_type'] = final_delivery_movs['movement_type'].replace(\n"
     ]
    }
   ],
   "source": [
    "final_delivery_movs['movement_type'] = final_delivery_movs['movement_type'].replace(\n",
    "                                                                                  ['Richiesta credito', 'Spedizione', 'Ricontabilizzazione'],\n",
    "                                                                                  ['deposit','delivery', 'fee']\n",
    "                                                                                   )"
   ]
  },
  {
   "cell_type": "markdown",
   "id": "28aac5a1-6183-404b-bfa2-06ada392809a",
   "metadata": {},
   "source": [
    "### Extract year and month from date"
   ]
  },
  {
   "cell_type": "code",
   "execution_count": 6,
   "id": "8bd60eed-00e7-4146-8fa2-24f40eaf68dc",
   "metadata": {},
   "outputs": [
    {
     "name": "stderr",
     "output_type": "stream",
     "text": [
      "C:\\Users\\samue\\AppData\\Local\\Temp\\ipykernel_45460\\1351307065.py:1: UserWarning: Parsing dates in %d/%m/%Y format when dayfirst=False (the default) was specified. Pass `dayfirst=True` or specify a format to silence this warning.\n",
      "  final_delivery_movs['date'] = pd.to_datetime(final_delivery_movs['date'])\n",
      "C:\\Users\\samue\\AppData\\Local\\Temp\\ipykernel_45460\\1351307065.py:1: SettingWithCopyWarning: \n",
      "A value is trying to be set on a copy of a slice from a DataFrame.\n",
      "Try using .loc[row_indexer,col_indexer] = value instead\n",
      "\n",
      "See the caveats in the documentation: https://pandas.pydata.org/pandas-docs/stable/user_guide/indexing.html#returning-a-view-versus-a-copy\n",
      "  final_delivery_movs['date'] = pd.to_datetime(final_delivery_movs['date'])\n",
      "C:\\Users\\samue\\AppData\\Local\\Temp\\ipykernel_45460\\1351307065.py:2: SettingWithCopyWarning: \n",
      "A value is trying to be set on a copy of a slice from a DataFrame.\n",
      "Try using .loc[row_indexer,col_indexer] = value instead\n",
      "\n",
      "See the caveats in the documentation: https://pandas.pydata.org/pandas-docs/stable/user_guide/indexing.html#returning-a-view-versus-a-copy\n",
      "  final_delivery_movs['year'] = final_delivery_movs['date'].dt.year\n",
      "C:\\Users\\samue\\AppData\\Local\\Temp\\ipykernel_45460\\1351307065.py:3: SettingWithCopyWarning: \n",
      "A value is trying to be set on a copy of a slice from a DataFrame.\n",
      "Try using .loc[row_indexer,col_indexer] = value instead\n",
      "\n",
      "See the caveats in the documentation: https://pandas.pydata.org/pandas-docs/stable/user_guide/indexing.html#returning-a-view-versus-a-copy\n",
      "  final_delivery_movs['month'] = final_delivery_movs['date'].dt.month\n"
     ]
    },
    {
     "data": {
      "text/html": [
       "<div>\n",
       "<style scoped>\n",
       "    .dataframe tbody tr th:only-of-type {\n",
       "        vertical-align: middle;\n",
       "    }\n",
       "\n",
       "    .dataframe tbody tr th {\n",
       "        vertical-align: top;\n",
       "    }\n",
       "\n",
       "    .dataframe thead th {\n",
       "        text-align: right;\n",
       "    }\n",
       "</style>\n",
       "<table border=\"1\" class=\"dataframe\">\n",
       "  <thead>\n",
       "    <tr style=\"text-align: right;\">\n",
       "      <th></th>\n",
       "      <th>date</th>\n",
       "      <th>movement_id</th>\n",
       "      <th>movement_type</th>\n",
       "      <th>amount</th>\n",
       "      <th>Note</th>\n",
       "      <th>year</th>\n",
       "      <th>month</th>\n",
       "    </tr>\n",
       "  </thead>\n",
       "  <tbody>\n",
       "    <tr>\n",
       "      <th>0</th>\n",
       "      <td>2023-05-17</td>\n",
       "      <td>Prima Ricarica</td>\n",
       "      <td>deposit</td>\n",
       "      <td>99.0000</td>\n",
       "      <td>NaN</td>\n",
       "      <td>2023</td>\n",
       "      <td>5</td>\n",
       "    </tr>\n",
       "    <tr>\n",
       "      <th>1</th>\n",
       "      <td>2023-05-17</td>\n",
       "      <td>ricarica formazione</td>\n",
       "      <td>deposit</td>\n",
       "      <td>20.0000</td>\n",
       "      <td>NaN</td>\n",
       "      <td>2023</td>\n",
       "      <td>5</td>\n",
       "    </tr>\n",
       "    <tr>\n",
       "      <th>6</th>\n",
       "      <td>2023-05-18</td>\n",
       "      <td>287670I028700</td>\n",
       "      <td>delivery</td>\n",
       "      <td>-7.2346</td>\n",
       "      <td>NaN</td>\n",
       "      <td>2023</td>\n",
       "      <td>5</td>\n",
       "    </tr>\n",
       "    <tr>\n",
       "      <th>7</th>\n",
       "      <td>2023-07-13</td>\n",
       "      <td>078070444432</td>\n",
       "      <td>delivery</td>\n",
       "      <td>-34.1966</td>\n",
       "      <td>NaN</td>\n",
       "      <td>2023</td>\n",
       "      <td>7</td>\n",
       "    </tr>\n",
       "    <tr>\n",
       "      <th>8</th>\n",
       "      <td>2023-09-06</td>\n",
       "      <td>Logistica e Magazzino Agosto 2023</td>\n",
       "      <td>delivery</td>\n",
       "      <td>-245.0600</td>\n",
       "      <td>NaN</td>\n",
       "      <td>2023</td>\n",
       "      <td>9</td>\n",
       "    </tr>\n",
       "  </tbody>\n",
       "</table>\n",
       "</div>"
      ],
      "text/plain": [
       "        date                        movement_id movement_type    amount Note  \\\n",
       "0 2023-05-17                     Prima Ricarica       deposit   99.0000  NaN   \n",
       "1 2023-05-17                ricarica formazione       deposit   20.0000  NaN   \n",
       "6 2023-05-18                      287670I028700      delivery   -7.2346  NaN   \n",
       "7 2023-07-13                       078070444432      delivery  -34.1966  NaN   \n",
       "8 2023-09-06  Logistica e Magazzino Agosto 2023      delivery -245.0600  NaN   \n",
       "\n",
       "   year  month  \n",
       "0  2023      5  \n",
       "1  2023      5  \n",
       "6  2023      5  \n",
       "7  2023      7  \n",
       "8  2023      9  "
      ]
     },
     "execution_count": 6,
     "metadata": {},
     "output_type": "execute_result"
    }
   ],
   "source": [
    "final_delivery_movs['date'] = pd.to_datetime(final_delivery_movs['date'])\n",
    "final_delivery_movs['year'] = final_delivery_movs['date'].dt.year\n",
    "final_delivery_movs['month'] = final_delivery_movs['date'].dt.month\n",
    "final_delivery_movs.head()"
   ]
  },
  {
   "cell_type": "markdown",
   "id": "467f5208-e5e0-4298-8706-17340cb13e32",
   "metadata": {},
   "source": [
    "## Analysis"
   ]
  },
  {
   "cell_type": "markdown",
   "id": "9650ab5a-e1e5-4222-82b5-11f797930cd9",
   "metadata": {},
   "source": [
    "### Variable costs by recipient region over time"
   ]
  },
  {
   "cell_type": "code",
   "execution_count": 7,
   "id": "d8a4bceb-e7ef-445a-8996-265a82175e3d",
   "metadata": {},
   "outputs": [
    {
     "data": {
      "text/plain": [
       "year  month\n",
       "2023  5         -7.234600\n",
       "      7        -34.196600\n",
       "      9       -245.060000\n",
       "      10       -11.730237\n",
       "      11        -8.024409\n",
       "      12        -8.811563\n",
       "2024  1         -9.908840\n",
       "Name: amount, dtype: float64"
      ]
     },
     "execution_count": 7,
     "metadata": {},
     "output_type": "execute_result"
    }
   ],
   "source": [
    "final_delivery_movs[final_delivery_movs['movement_type']=='delivery'].groupby(['year','month'])['amount'].mean()"
   ]
  },
  {
   "cell_type": "markdown",
   "id": "9ef32cb3-1bd5-4ba8-947c-1cde9987e65e",
   "metadata": {},
   "source": [
    "### Fixed costs"
   ]
  },
  {
   "cell_type": "code",
   "execution_count": 8,
   "id": "6ea6be88-8c6a-4fc5-b5f3-42bf494e4583",
   "metadata": {},
   "outputs": [
    {
     "data": {
      "text/html": [
       "<div>\n",
       "<style scoped>\n",
       "    .dataframe tbody tr th:only-of-type {\n",
       "        vertical-align: middle;\n",
       "    }\n",
       "\n",
       "    .dataframe tbody tr th {\n",
       "        vertical-align: top;\n",
       "    }\n",
       "\n",
       "    .dataframe thead th {\n",
       "        text-align: right;\n",
       "    }\n",
       "</style>\n",
       "<table border=\"1\" class=\"dataframe\">\n",
       "  <thead>\n",
       "    <tr style=\"text-align: right;\">\n",
       "      <th></th>\n",
       "      <th>date</th>\n",
       "      <th>movement_id</th>\n",
       "      <th>movement_type</th>\n",
       "      <th>amount</th>\n",
       "      <th>Note</th>\n",
       "      <th>year</th>\n",
       "      <th>month</th>\n",
       "    </tr>\n",
       "  </thead>\n",
       "  <tbody>\n",
       "    <tr>\n",
       "      <th>159</th>\n",
       "      <td>2023-11-08</td>\n",
       "      <td>Magazzino e logistica Ottobre 2023</td>\n",
       "      <td>fee</td>\n",
       "      <td>-111.50</td>\n",
       "      <td>NaN</td>\n",
       "      <td>2023</td>\n",
       "      <td>11</td>\n",
       "    </tr>\n",
       "    <tr>\n",
       "      <th>328</th>\n",
       "      <td>2024-01-05</td>\n",
       "      <td>Logistica e magazzino Dicembre 2023</td>\n",
       "      <td>fee</td>\n",
       "      <td>-128.95</td>\n",
       "      <td>NaN</td>\n",
       "      <td>2024</td>\n",
       "      <td>1</td>\n",
       "    </tr>\n",
       "  </tbody>\n",
       "</table>\n",
       "</div>"
      ],
      "text/plain": [
       "          date                          movement_id movement_type  amount  \\\n",
       "159 2023-11-08   Magazzino e logistica Ottobre 2023           fee -111.50   \n",
       "328 2024-01-05  Logistica e magazzino Dicembre 2023           fee -128.95   \n",
       "\n",
       "    Note  year  month  \n",
       "159  NaN  2023     11  \n",
       "328  NaN  2024      1  "
      ]
     },
     "execution_count": 8,
     "metadata": {},
     "output_type": "execute_result"
    }
   ],
   "source": [
    "final_delivery_movs[final_delivery_movs['movement_type']=='fee']"
   ]
  },
  {
   "cell_type": "code",
   "execution_count": 9,
   "id": "1959fdf8-d8cd-435b-bb5d-a27ed8e8e802",
   "metadata": {},
   "outputs": [
    {
     "data": {
      "text/plain": [
       "-240.45"
      ]
     },
     "execution_count": 9,
     "metadata": {},
     "output_type": "execute_result"
    }
   ],
   "source": [
    "final_delivery_movs[final_delivery_movs['movement_type']=='fee']['amount'].sum()"
   ]
  },
  {
   "cell_type": "code",
   "execution_count": null,
   "id": "dd4005de-00e7-4471-8388-08e744133ca9",
   "metadata": {},
   "outputs": [],
   "source": []
  },
  {
   "cell_type": "code",
   "execution_count": null,
   "id": "9aa8702d-6f16-4d5d-bd37-8a6ce8a1129a",
   "metadata": {},
   "outputs": [],
   "source": []
  },
  {
   "cell_type": "code",
   "execution_count": null,
   "id": "833c3f1c-0af3-4e2d-838d-fdc691540a12",
   "metadata": {},
   "outputs": [],
   "source": []
  },
  {
   "cell_type": "code",
   "execution_count": null,
   "id": "2fc9fdd0-7b9e-4818-a7af-f808aad40419",
   "metadata": {},
   "outputs": [],
   "source": []
  },
  {
   "cell_type": "code",
   "execution_count": null,
   "id": "98946fb3-ff32-46c7-b837-dfd26cf01056",
   "metadata": {},
   "outputs": [],
   "source": []
  }
 ],
 "metadata": {
  "kernelspec": {
   "display_name": "Python 3 (ipykernel)",
   "language": "python",
   "name": "python3"
  },
  "language_info": {
   "codemirror_mode": {
    "name": "ipython",
    "version": 3
   },
   "file_extension": ".py",
   "mimetype": "text/x-python",
   "name": "python",
   "nbconvert_exporter": "python",
   "pygments_lexer": "ipython3",
   "version": "3.12.2"
  }
 },
 "nbformat": 4,
 "nbformat_minor": 5
}
